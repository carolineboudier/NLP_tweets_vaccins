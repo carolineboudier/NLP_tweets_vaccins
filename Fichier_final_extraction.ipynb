{
 "cells": [
  {
   "cell_type": "markdown",
   "metadata": {},
   "source": [
    "Ce code d'extraction est très largement inspiré du code de Gabriel Preda disponible ici : https://github.com/gabrielpreda/covid-19-tweets/blob/master/covid-19-tweets.ipynb"
   ]
  },
  {
   "cell_type": "markdown",
   "metadata": {},
   "source": [
    "# Paramètres"
   ]
  },
  {
   "cell_type": "code",
   "execution_count": 3,
   "metadata": {},
   "outputs": [],
   "source": [
    "# modules nécessaires\n",
    "import tweepy as tw\n",
    "import pandas as pd\n",
    "from tqdm import tqdm"
   ]
  },
  {
   "cell_type": "code",
   "execution_count": 2,
   "metadata": {},
   "outputs": [],
   "source": [
    "# clés d'identification\n",
    "consumer_key = \"\" #(API key)\n",
    "consumer_secret = \"\" #API key secret)\n",
    "access_token = \"\" #(acces token)\n",
    "access_token_secret = \"\"# access token secret"
   ]
  },
  {
   "cell_type": "code",
   "execution_count": 3,
   "metadata": {},
   "outputs": [],
   "source": [
    "# authentification avec les clés\n",
    "auth=tw.OAuthHandler(consumer_key,consumer_secret)\n",
    "\n",
    "# on paramétrise l'API\n",
    "    # wait_on_rate_limit permet d'afficher une notif si on dépasse le quota autorisé par Twitter\n",
    "api=tw.API(auth,wait_on_rate_limit=True)"
   ]
  },
  {
   "cell_type": "markdown",
   "metadata": {},
   "source": [
    "# Query"
   ]
  },
  {
   "cell_type": "code",
   "execution_count": 288,
   "metadata": {},
   "outputs": [],
   "source": [
    "# on cherche la racine vaccin (autorise aussi les hashtags, les composés de vaccin)\n",
    "# on ignore les retweets\n",
    "query=\"vaccin OR #vaccin -filter:retweets\"\n",
    "\n",
    "# date limite\n",
    "date_until='2021-01-15'\n",
    "\n",
    "# dernier id à extraire\n",
    "last_id=1349600875061387267\n",
    "\n",
    "#nom du fichier à nourir\n",
    "path='fichier_extract'\n",
    "nb_limit=5000"
   ]
  },
  {
   "cell_type": "code",
   "execution_count": 289,
   "metadata": {},
   "outputs": [],
   "source": [
    "# on lance la requête (soit avec un id_max, soit avec une date max)\n",
    "tweets=tw.Cursor(api.search,q=query,lang='fr',max_id=last_id).items(nb_limit)\n",
    "#tweets=tw.Cursor(api.search,q=query,lang='fr',until=date_until).items(nb_limit)"
   ]
  },
  {
   "cell_type": "code",
   "execution_count": 290,
   "metadata": {},
   "outputs": [
    {
     "name": "stderr",
     "output_type": "stream",
     "text": [
      "2000it [01:31, 21.77it/s]\n"
     ]
    }
   ],
   "source": [
    "# on intègre les tweets récupérés dans un vecteur\n",
    "tweets_data=[]\n",
    "for tweet in tqdm(tweets):\n",
    "    tweets_data.append(tweet)"
   ]
  },
  {
   "cell_type": "code",
   "execution_count": 291,
   "metadata": {},
   "outputs": [
    {
     "name": "stdout",
     "output_type": "stream",
     "text": [
      "Nombre de tweets récupérés : 2000\n",
      "\n",
      "\n",
      "Chaque tweet est sous une forme complexe avec une partie en JSON sous cette forme : \n",
      "\n",
      "Status(_api=<tweepy.api.API object at 0x11604e590>, _json={'created_at': 'Thu Jan 14 06:14:57 +0000 2021', 'id': 1349600875061387267, 'id_str': '1349600875061387267', 'text': \"RT @jacquesderosier: Je ne suis pas anti vaccin mais ma mère a été vaccinée vendredi. Aujourd'hui on vient de m'informer qu'elle a le Covid…\", 'truncated': False, 'entities': {'hashtags': [], 'symbols': [], 'user_mentions': [{'screen_name': 'jacquesderosier', 'name': 'Jacques derosier', 'id': 132997206, 'id_str': '132997206', 'indices': [3, 19]}], 'urls': []}, 'metadata': {'iso_language_code': 'fr', 'result_type': 'recent'}, 'source': '<a href=\"http://twitter.com/download/iphone\" rel=\"nofollow\">Twitter for iPhone</a>', 'in_reply_to_status_id': None, 'in_reply_to_status_id_str': None, 'in_reply_to_user_id': None, 'in_reply_to_user_id_str': None, 'in_reply_to_screen_name': None, 'user': {'id': 339267583, 'id_str': '339267583', 'name': 'Le bon sens #NS #FF', 'screen_name': 'le_bon_sens', 'location': '', 'description': '', 'url': None, 'entities': {'description': {'urls': []}}, 'protected': False, 'followers_count': 406, 'friends_count': 1081, 'listed_count': 14, 'created_at': 'Wed Jul 20 20:56:59 +0000 2011', 'favourites_count': 4696, 'utc_offset': None, 'time_zone': None, 'geo_enabled': True, 'verified': False, 'statuses_count': 12557, 'lang': None, 'contributors_enabled': False, 'is_translator': False, 'is_translation_enabled': False, 'profile_background_color': 'C0DEED', 'profile_background_image_url': 'http://abs.twimg.com/images/themes/theme1/bg.png', 'profile_background_image_url_https': 'https://abs.twimg.com/images/themes/theme1/bg.png', 'profile_background_tile': False, 'profile_image_url': 'http://pbs.twimg.com/profile_images/2185625716/image_normal.jpg', 'profile_image_url_https': 'https://pbs.twimg.com/profile_images/2185625716/image_normal.jpg', 'profile_banner_url': 'https://pbs.twimg.com/profile_banners/339267583/1367700551', 'profile_link_color': '1DA1F2', 'profile_sidebar_border_color': 'C0DEED', 'profile_sidebar_fill_color': 'DDEEF6', 'profile_text_color': '333333', 'profile_use_background_image': True, 'has_extended_profile': False, 'default_profile': True, 'default_profile_image': False, 'following': None, 'follow_request_sent': None, 'notifications': None, 'translator_type': 'none'}, 'geo': None, 'coordinates': None, 'place': None, 'contributors': None, 'retweeted_status': {'created_at': 'Wed Jan 13 09:05:47 +0000 2021', 'id': 1349281477536714754, 'id_str': '1349281477536714754', 'text': \"Je ne suis pas anti vaccin mais ma mère a été vaccinée vendredi. Aujourd'hui on vient de m'informer qu'elle a le Covid ! 😰\", 'truncated': False, 'entities': {'hashtags': [], 'symbols': [], 'user_mentions': [], 'urls': []}, 'metadata': {'iso_language_code': 'fr', 'result_type': 'recent'}, 'source': '<a href=\"http://twitter.com/download/android\" rel=\"nofollow\">Twitter for Android</a>', 'in_reply_to_status_id': None, 'in_reply_to_status_id_str': None, 'in_reply_to_user_id': None, 'in_reply_to_user_id_str': None, 'in_reply_to_screen_name': None, 'user': {'id': 132997206, 'id_str': '132997206', 'name': 'Jacques derosier', 'screen_name': 'jacquesderosier', 'location': '', 'description': 'Pour ceux à Gauche, je suis souvent à Droite. Pour ceux de Droite je suis un \"islamo gauchiste\" ! Pourtant je suis loin d\\'être \"en même temps\". Dur, dur 🤔😋', 'url': None, 'entities': {'description': {'urls': []}}, 'protected': False, 'followers_count': 1748, 'friends_count': 2198, 'listed_count': 3, 'created_at': 'Wed Apr 14 18:57:04 +0000 2010', 'favourites_count': 42506, 'utc_offset': None, 'time_zone': None, 'geo_enabled': False, 'verified': False, 'statuses_count': 49699, 'lang': None, 'contributors_enabled': False, 'is_translator': False, 'is_translation_enabled': False, 'profile_background_color': 'C0DEED', 'profile_background_image_url': 'http://abs.twimg.com/images/themes/theme1/bg.png', 'profile_background_image_url_https': 'https://abs.twimg.com/images/themes/theme1/bg.png', 'profile_background_tile': False, 'profile_image_url': 'http://pbs.twimg.com/profile_images/554196653767290883/r3wlJbBZ_normal.jpeg', 'profile_image_url_https': 'https://pbs.twimg.com/profile_images/554196653767290883/r3wlJbBZ_normal.jpeg', 'profile_banner_url': 'https://pbs.twimg.com/profile_banners/132997206/1451721690', 'profile_link_color': '1DA1F2', 'profile_sidebar_border_color': 'C0DEED', 'profile_sidebar_fill_color': 'DDEEF6', 'profile_text_color': '333333', 'profile_use_background_image': True, 'has_extended_profile': False, 'default_profile': True, 'default_profile_image': False, 'following': None, 'follow_request_sent': None, 'notifications': None, 'translator_type': 'none'}, 'geo': None, 'coordinates': None, 'place': None, 'contributors': None, 'is_quote_status': False, 'retweet_count': 3004, 'favorite_count': 4963, 'favorited': False, 'retweeted': False, 'lang': 'fr'}, 'is_quote_status': False, 'retweet_count': 3004, 'favorite_count': 0, 'favorited': False, 'retweeted': False, 'lang': 'fr'}, created_at=datetime.datetime(2021, 1, 14, 6, 14, 57), id=1349600875061387267, id_str='1349600875061387267', text=\"RT @jacquesderosier: Je ne suis pas anti vaccin mais ma mère a été vaccinée vendredi. Aujourd'hui on vient de m'informer qu'elle a le Covid…\", truncated=False, entities={'hashtags': [], 'symbols': [], 'user_mentions': [{'screen_name': 'jacquesderosier', 'name': 'Jacques derosier', 'id': 132997206, 'id_str': '132997206', 'indices': [3, 19]}], 'urls': []}, metadata={'iso_language_code': 'fr', 'result_type': 'recent'}, source='Twitter for iPhone', source_url='http://twitter.com/download/iphone', in_reply_to_status_id=None, in_reply_to_status_id_str=None, in_reply_to_user_id=None, in_reply_to_user_id_str=None, in_reply_to_screen_name=None, author=User(_api=<tweepy.api.API object at 0x11604e590>, _json={'id': 339267583, 'id_str': '339267583', 'name': 'Le bon sens #NS #FF', 'screen_name': 'le_bon_sens', 'location': '', 'description': '', 'url': None, 'entities': {'description': {'urls': []}}, 'protected': False, 'followers_count': 406, 'friends_count': 1081, 'listed_count': 14, 'created_at': 'Wed Jul 20 20:56:59 +0000 2011', 'favourites_count': 4696, 'utc_offset': None, 'time_zone': None, 'geo_enabled': True, 'verified': False, 'statuses_count': 12557, 'lang': None, 'contributors_enabled': False, 'is_translator': False, 'is_translation_enabled': False, 'profile_background_color': 'C0DEED', 'profile_background_image_url': 'http://abs.twimg.com/images/themes/theme1/bg.png', 'profile_background_image_url_https': 'https://abs.twimg.com/images/themes/theme1/bg.png', 'profile_background_tile': False, 'profile_image_url': 'http://pbs.twimg.com/profile_images/2185625716/image_normal.jpg', 'profile_image_url_https': 'https://pbs.twimg.com/profile_images/2185625716/image_normal.jpg', 'profile_banner_url': 'https://pbs.twimg.com/profile_banners/339267583/1367700551', 'profile_link_color': '1DA1F2', 'profile_sidebar_border_color': 'C0DEED', 'profile_sidebar_fill_color': 'DDEEF6', 'profile_text_color': '333333', 'profile_use_background_image': True, 'has_extended_profile': False, 'default_profile': True, 'default_profile_image': False, 'following': None, 'follow_request_sent': None, 'notifications': None, 'translator_type': 'none'}, id=339267583, id_str='339267583', name='Le bon sens #NS #FF', screen_name='le_bon_sens', location='', description='', url=None, entities={'description': {'urls': []}}, protected=False, followers_count=406, friends_count=1081, listed_count=14, created_at=datetime.datetime(2011, 7, 20, 20, 56, 59), favourites_count=4696, utc_offset=None, time_zone=None, geo_enabled=True, verified=False, statuses_count=12557, lang=None, contributors_enabled=False, is_translator=False, is_translation_enabled=False, profile_background_color='C0DEED', profile_background_image_url='http://abs.twimg.com/images/themes/theme1/bg.png', profile_background_image_url_https='https://abs.twimg.com/images/themes/theme1/bg.png', profile_background_tile=False, profile_image_url='http://pbs.twimg.com/profile_images/2185625716/image_normal.jpg', profile_image_url_https='https://pbs.twimg.com/profile_images/2185625716/image_normal.jpg', profile_banner_url='https://pbs.twimg.com/profile_banners/339267583/1367700551', profile_link_color='1DA1F2', profile_sidebar_border_color='C0DEED', profile_sidebar_fill_color='DDEEF6', profile_text_color='333333', profile_use_background_image=True, has_extended_profile=False, default_profile=True, default_profile_image=False, following=False, follow_request_sent=None, notifications=None, translator_type='none'), user=User(_api=<tweepy.api.API object at 0x11604e590>, _json={'id': 339267583, 'id_str': '339267583', 'name': 'Le bon sens #NS #FF', 'screen_name': 'le_bon_sens', 'location': '', 'description': '', 'url': None, 'entities': {'description': {'urls': []}}, 'protected': False, 'followers_count': 406, 'friends_count': 1081, 'listed_count': 14, 'created_at': 'Wed Jul 20 20:56:59 +0000 2011', 'favourites_count': 4696, 'utc_offset': None, 'time_zone': None, 'geo_enabled': True, 'verified': False, 'statuses_count': 12557, 'lang': None, 'contributors_enabled': False, 'is_translator': False, 'is_translation_enabled': False, 'profile_background_color': 'C0DEED', 'profile_background_image_url': 'http://abs.twimg.com/images/themes/theme1/bg.png', 'profile_background_image_url_https': 'https://abs.twimg.com/images/themes/theme1/bg.png', 'profile_background_tile': False, 'profile_image_url': 'http://pbs.twimg.com/profile_images/2185625716/image_normal.jpg', 'profile_image_url_https': 'https://pbs.twimg.com/profile_images/2185625716/image_normal.jpg', 'profile_banner_url': 'https://pbs.twimg.com/profile_banners/339267583/1367700551', 'profile_link_color': '1DA1F2', 'profile_sidebar_border_color': 'C0DEED', 'profile_sidebar_fill_color': 'DDEEF6', 'profile_text_color': '333333', 'profile_use_background_image': True, 'has_extended_profile': False, 'default_profile': True, 'default_profile_image': False, 'following': None, 'follow_request_sent': None, 'notifications': None, 'translator_type': 'none'}, id=339267583, id_str='339267583', name='Le bon sens #NS #FF', screen_name='le_bon_sens', location='', description='', url=None, entities={'description': {'urls': []}}, protected=False, followers_count=406, friends_count=1081, listed_count=14, created_at=datetime.datetime(2011, 7, 20, 20, 56, 59), favourites_count=4696, utc_offset=None, time_zone=None, geo_enabled=True, verified=False, statuses_count=12557, lang=None, contributors_enabled=False, is_translator=False, is_translation_enabled=False, profile_background_color='C0DEED', profile_background_image_url='http://abs.twimg.com/images/themes/theme1/bg.png', profile_background_image_url_https='https://abs.twimg.com/images/themes/theme1/bg.png', profile_background_tile=False, profile_image_url='http://pbs.twimg.com/profile_images/2185625716/image_normal.jpg', profile_image_url_https='https://pbs.twimg.com/profile_images/2185625716/image_normal.jpg', profile_banner_url='https://pbs.twimg.com/profile_banners/339267583/1367700551', profile_link_color='1DA1F2', profile_sidebar_border_color='C0DEED', profile_sidebar_fill_color='DDEEF6', profile_text_color='333333', profile_use_background_image=True, has_extended_profile=False, default_profile=True, default_profile_image=False, following=False, follow_request_sent=None, notifications=None, translator_type='none'), geo=None, coordinates=None, place=None, contributors=None, retweeted_status=Status(_api=<tweepy.api.API object at 0x11604e590>, _json={'created_at': 'Wed Jan 13 09:05:47 +0000 2021', 'id': 1349281477536714754, 'id_str': '1349281477536714754', 'text': \"Je ne suis pas anti vaccin mais ma mère a été vaccinée vendredi. Aujourd'hui on vient de m'informer qu'elle a le Covid ! 😰\", 'truncated': False, 'entities': {'hashtags': [], 'symbols': [], 'user_mentions': [], 'urls': []}, 'metadata': {'iso_language_code': 'fr', 'result_type': 'recent'}, 'source': '<a href=\"http://twitter.com/download/android\" rel=\"nofollow\">Twitter for Android</a>', 'in_reply_to_status_id': None, 'in_reply_to_status_id_str': None, 'in_reply_to_user_id': None, 'in_reply_to_user_id_str': None, 'in_reply_to_screen_name': None, 'user': {'id': 132997206, 'id_str': '132997206', 'name': 'Jacques derosier', 'screen_name': 'jacquesderosier', 'location': '', 'description': 'Pour ceux à Gauche, je suis souvent à Droite. Pour ceux de Droite je suis un \"islamo gauchiste\" ! Pourtant je suis loin d\\'être \"en même temps\". Dur, dur 🤔😋', 'url': None, 'entities': {'description': {'urls': []}}, 'protected': False, 'followers_count': 1748, 'friends_count': 2198, 'listed_count': 3, 'created_at': 'Wed Apr 14 18:57:04 +0000 2010', 'favourites_count': 42506, 'utc_offset': None, 'time_zone': None, 'geo_enabled': False, 'verified': False, 'statuses_count': 49699, 'lang': None, 'contributors_enabled': False, 'is_translator': False, 'is_translation_enabled': False, 'profile_background_color': 'C0DEED', 'profile_background_image_url': 'http://abs.twimg.com/images/themes/theme1/bg.png', 'profile_background_image_url_https': 'https://abs.twimg.com/images/themes/theme1/bg.png', 'profile_background_tile': False, 'profile_image_url': 'http://pbs.twimg.com/profile_images/554196653767290883/r3wlJbBZ_normal.jpeg', 'profile_image_url_https': 'https://pbs.twimg.com/profile_images/554196653767290883/r3wlJbBZ_normal.jpeg', 'profile_banner_url': 'https://pbs.twimg.com/profile_banners/132997206/1451721690', 'profile_link_color': '1DA1F2', 'profile_sidebar_border_color': 'C0DEED', 'profile_sidebar_fill_color': 'DDEEF6', 'profile_text_color': '333333', 'profile_use_background_image': True, 'has_extended_profile': False, 'default_profile': True, 'default_profile_image': False, 'following': None, 'follow_request_sent': None, 'notifications': None, 'translator_type': 'none'}, 'geo': None, 'coordinates': None, 'place': None, 'contributors': None, 'is_quote_status': False, 'retweet_count': 3004, 'favorite_count': 4963, 'favorited': False, 'retweeted': False, 'lang': 'fr'}, created_at=datetime.datetime(2021, 1, 13, 9, 5, 47), id=1349281477536714754, id_str='1349281477536714754', text=\"Je ne suis pas anti vaccin mais ma mère a été vaccinée vendredi. Aujourd'hui on vient de m'informer qu'elle a le Covid ! 😰\", truncated=False, entities={'hashtags': [], 'symbols': [], 'user_mentions': [], 'urls': []}, metadata={'iso_language_code': 'fr', 'result_type': 'recent'}, source='Twitter for Android', source_url='http://twitter.com/download/android', in_reply_to_status_id=None, in_reply_to_status_id_str=None, in_reply_to_user_id=None, in_reply_to_user_id_str=None, in_reply_to_screen_name=None, author=User(_api=<tweepy.api.API object at 0x11604e590>, _json={'id': 132997206, 'id_str': '132997206', 'name': 'Jacques derosier', 'screen_name': 'jacquesderosier', 'location': '', 'description': 'Pour ceux à Gauche, je suis souvent à Droite. Pour ceux de Droite je suis un \"islamo gauchiste\" ! Pourtant je suis loin d\\'être \"en même temps\". Dur, dur 🤔😋', 'url': None, 'entities': {'description': {'urls': []}}, 'protected': False, 'followers_count': 1748, 'friends_count': 2198, 'listed_count': 3, 'created_at': 'Wed Apr 14 18:57:04 +0000 2010', 'favourites_count': 42506, 'utc_offset': None, 'time_zone': None, 'geo_enabled': False, 'verified': False, 'statuses_count': 49699, 'lang': None, 'contributors_enabled': False, 'is_translator': False, 'is_translation_enabled': False, 'profile_background_color': 'C0DEED', 'profile_background_image_url': 'http://abs.twimg.com/images/themes/theme1/bg.png', 'profile_background_image_url_https': 'https://abs.twimg.com/images/themes/theme1/bg.png', 'profile_background_tile': False, 'profile_image_url': 'http://pbs.twimg.com/profile_images/554196653767290883/r3wlJbBZ_normal.jpeg', 'profile_image_url_https': 'https://pbs.twimg.com/profile_images/554196653767290883/r3wlJbBZ_normal.jpeg', 'profile_banner_url': 'https://pbs.twimg.com/profile_banners/132997206/1451721690', 'profile_link_color': '1DA1F2', 'profile_sidebar_border_color': 'C0DEED', 'profile_sidebar_fill_color': 'DDEEF6', 'profile_text_color': '333333', 'profile_use_background_image': True, 'has_extended_profile': False, 'default_profile': True, 'default_profile_image': False, 'following': None, 'follow_request_sent': None, 'notifications': None, 'translator_type': 'none'}, id=132997206, id_str='132997206', name='Jacques derosier', screen_name='jacquesderosier', location='', description='Pour ceux à Gauche, je suis souvent à Droite. Pour ceux de Droite je suis un \"islamo gauchiste\" ! Pourtant je suis loin d\\'être \"en même temps\". Dur, dur 🤔😋', url=None, entities={'description': {'urls': []}}, protected=False, followers_count=1748, friends_count=2198, listed_count=3, created_at=datetime.datetime(2010, 4, 14, 18, 57, 4), favourites_count=42506, utc_offset=None, time_zone=None, geo_enabled=False, verified=False, statuses_count=49699, lang=None, contributors_enabled=False, is_translator=False, is_translation_enabled=False, profile_background_color='C0DEED', profile_background_image_url='http://abs.twimg.com/images/themes/theme1/bg.png', profile_background_image_url_https='https://abs.twimg.com/images/themes/theme1/bg.png', profile_background_tile=False, profile_image_url='http://pbs.twimg.com/profile_images/554196653767290883/r3wlJbBZ_normal.jpeg', profile_image_url_https='https://pbs.twimg.com/profile_images/554196653767290883/r3wlJbBZ_normal.jpeg', profile_banner_url='https://pbs.twimg.com/profile_banners/132997206/1451721690', profile_link_color='1DA1F2', profile_sidebar_border_color='C0DEED', profile_sidebar_fill_color='DDEEF6', profile_text_color='333333', profile_use_background_image=True, has_extended_profile=False, default_profile=True, default_profile_image=False, following=False, follow_request_sent=None, notifications=None, translator_type='none'), user=User(_api=<tweepy.api.API object at 0x11604e590>, _json={'id': 132997206, 'id_str': '132997206', 'name': 'Jacques derosier', 'screen_name': 'jacquesderosier', 'location': '', 'description': 'Pour ceux à Gauche, je suis souvent à Droite. Pour ceux de Droite je suis un \"islamo gauchiste\" ! Pourtant je suis loin d\\'être \"en même temps\". Dur, dur 🤔😋', 'url': None, 'entities': {'description': {'urls': []}}, 'protected': False, 'followers_count': 1748, 'friends_count': 2198, 'listed_count': 3, 'created_at': 'Wed Apr 14 18:57:04 +0000 2010', 'favourites_count': 42506, 'utc_offset': None, 'time_zone': None, 'geo_enabled': False, 'verified': False, 'statuses_count': 49699, 'lang': None, 'contributors_enabled': False, 'is_translator': False, 'is_translation_enabled': False, 'profile_background_color': 'C0DEED', 'profile_background_image_url': 'http://abs.twimg.com/images/themes/theme1/bg.png', 'profile_background_image_url_https': 'https://abs.twimg.com/images/themes/theme1/bg.png', 'profile_background_tile': False, 'profile_image_url': 'http://pbs.twimg.com/profile_images/554196653767290883/r3wlJbBZ_normal.jpeg', 'profile_image_url_https': 'https://pbs.twimg.com/profile_images/554196653767290883/r3wlJbBZ_normal.jpeg', 'profile_banner_url': 'https://pbs.twimg.com/profile_banners/132997206/1451721690', 'profile_link_color': '1DA1F2', 'profile_sidebar_border_color': 'C0DEED', 'profile_sidebar_fill_color': 'DDEEF6', 'profile_text_color': '333333', 'profile_use_background_image': True, 'has_extended_profile': False, 'default_profile': True, 'default_profile_image': False, 'following': None, 'follow_request_sent': None, 'notifications': None, 'translator_type': 'none'}, id=132997206, id_str='132997206', name='Jacques derosier', screen_name='jacquesderosier', location='', description='Pour ceux à Gauche, je suis souvent à Droite. Pour ceux de Droite je suis un \"islamo gauchiste\" ! Pourtant je suis loin d\\'être \"en même temps\". Dur, dur 🤔😋', url=None, entities={'description': {'urls': []}}, protected=False, followers_count=1748, friends_count=2198, listed_count=3, created_at=datetime.datetime(2010, 4, 14, 18, 57, 4), favourites_count=42506, utc_offset=None, time_zone=None, geo_enabled=False, verified=False, statuses_count=49699, lang=None, contributors_enabled=False, is_translator=False, is_translation_enabled=False, profile_background_color='C0DEED', profile_background_image_url='http://abs.twimg.com/images/themes/theme1/bg.png', profile_background_image_url_https='https://abs.twimg.com/images/themes/theme1/bg.png', profile_background_tile=False, profile_image_url='http://pbs.twimg.com/profile_images/554196653767290883/r3wlJbBZ_normal.jpeg', profile_image_url_https='https://pbs.twimg.com/profile_images/554196653767290883/r3wlJbBZ_normal.jpeg', profile_banner_url='https://pbs.twimg.com/profile_banners/132997206/1451721690', profile_link_color='1DA1F2', profile_sidebar_border_color='C0DEED', profile_sidebar_fill_color='DDEEF6', profile_text_color='333333', profile_use_background_image=True, has_extended_profile=False, default_profile=True, default_profile_image=False, following=False, follow_request_sent=None, notifications=None, translator_type='none'), geo=None, coordinates=None, place=None, contributors=None, is_quote_status=False, retweet_count=3004, favorite_count=4963, favorited=False, retweeted=False, lang='fr'), is_quote_status=False, retweet_count=3004, favorite_count=0, favorited=False, retweeted=False, lang='fr')\n"
     ]
    }
   ],
   "source": [
    "print('Nombre de tweets récupérés : {}'.format(len(tweets_data)))\n",
    "print('\\n')\n",
    "print('Chaque tweet est sous une forme complexe avec une partie en JSON sous cette forme : \\n')\n",
    "print(tweets_data[0])"
   ]
  },
  {
   "cell_type": "code",
   "execution_count": 292,
   "metadata": {},
   "outputs": [
    {
     "name": "stdout",
     "output_type": "stream",
     "text": [
      "RT @jacquesderosier: Je ne suis pas anti vaccin mais ma mère a été vaccinée vendredi. Aujourd'hui on vient de m'informer qu'elle a le Covid…\n",
      "RT @BaufMalou: L'ONU forcée d'admettre que le vaccin financé par la Fondation Gates est à l'origine d'une épidémie de polio en Afrique (21s…\n",
      "RT @patricklescop: @FrancisBack5 Moi j’ai un bon copain qui habitait rue Louis Pasteur à Brest donc je sais aussi ce qu’est un vaccin....\n",
      "RT @Ouestcetiti: Le Président à encore une fois ses nerfs ... et encore une fois contre les anciens ...!!!!!\n",
      "Il les veut comme cobayes pour…\n",
      "RT @Conspis_en_PLS: Covid-19 : l'efficacité du vaccin est-elle vraiment contredite par la flambée épidémique en Israël ?\n",
      "\n",
      "Selon certains sa…\n"
     ]
    }
   ],
   "source": [
    "# petite vérification : on affiche le début des cinq premiers tweets\n",
    "for tweet in tweets_data[0:5]:\n",
    "    print(tweet.text)"
   ]
  },
  {
   "cell_type": "code",
   "execution_count": 293,
   "metadata": {},
   "outputs": [
    {
     "name": "stderr",
     "output_type": "stream",
     "text": [
      "100%|██████████| 2000/2000 [27:48<00:00,  1.20it/s]   \n"
     ]
    }
   ],
   "source": [
    "# on intègre la donnée de manière structurée dans un dataframe\n",
    "tweets_df = pd.DataFrame()\n",
    "for tweet in tqdm(tweets_data):\n",
    "    # on crée une colonne pour récupérer les hashtags\n",
    "    hashtags = []\n",
    "    try:\n",
    "        for hashtag in tweet.entities[\"hashtags\"]:\n",
    "            hashtags.append(hashtag[\"text\"])\n",
    "        # on récupère le texte complet (et non pas tronqué)\n",
    "        text = api.get_status(id=tweet.id, tweet_mode='extended').full_text\n",
    "    except:\n",
    "        pass\n",
    "    # on sélectionne les informations pertinentes\n",
    "    tweets_df = tweets_df.append(pd.DataFrame({'tweet_id':tweet.id,\n",
    "                                               'date': tweet.created_at,\n",
    "                                               'text': text, \n",
    "                                               'tweet_location':tweet.geo,\n",
    "                                               'hashtags': [hashtags if hashtags else None],\n",
    "                                               'is_retweet': tweet.retweeted,\n",
    "                                               'is_reply':tweet.in_reply_to_screen_name,\n",
    "                                               'is_quote_status':tweet.is_quote_status,\n",
    "                                               'user_name': tweet.user.name, \n",
    "                                               'user_location': tweet.user.location,\n",
    "                                               'user_description': tweet.user.description,\n",
    "                                               'user_created': tweet.user.created_at,\n",
    "                                               'user_followers': tweet.user.followers_count,\n",
    "                                               'user_favourites': tweet.user.favourites_count,\n",
    "                                               'user_verified': tweet.user.verified}, index=[0]))"
   ]
  },
  {
   "cell_type": "code",
   "execution_count": 297,
   "metadata": {},
   "outputs": [
    {
     "data": {
      "text/html": [
       "<div>\n",
       "<style scoped>\n",
       "    .dataframe tbody tr th:only-of-type {\n",
       "        vertical-align: middle;\n",
       "    }\n",
       "\n",
       "    .dataframe tbody tr th {\n",
       "        vertical-align: top;\n",
       "    }\n",
       "\n",
       "    .dataframe thead th {\n",
       "        text-align: right;\n",
       "    }\n",
       "</style>\n",
       "<table border=\"1\" class=\"dataframe\">\n",
       "  <thead>\n",
       "    <tr style=\"text-align: right;\">\n",
       "      <th></th>\n",
       "      <th>tweet_id</th>\n",
       "      <th>date</th>\n",
       "      <th>text</th>\n",
       "      <th>tweet_location</th>\n",
       "      <th>hashtags</th>\n",
       "      <th>is_retweet</th>\n",
       "      <th>is_reply</th>\n",
       "      <th>is_quote_status</th>\n",
       "      <th>user_name</th>\n",
       "      <th>user_location</th>\n",
       "      <th>user_description</th>\n",
       "      <th>user_created</th>\n",
       "      <th>user_followers</th>\n",
       "      <th>user_favourites</th>\n",
       "      <th>user_verified</th>\n",
       "    </tr>\n",
       "  </thead>\n",
       "  <tbody>\n",
       "    <tr>\n",
       "      <th>0</th>\n",
       "      <td>1349600875061387267</td>\n",
       "      <td>2021-01-14 06:14:57</td>\n",
       "      <td>RT @jacquesderosier: Je ne suis pas anti vacci...</td>\n",
       "      <td>None</td>\n",
       "      <td>None</td>\n",
       "      <td>False</td>\n",
       "      <td>None</td>\n",
       "      <td>False</td>\n",
       "      <td>Le bon sens #NS #FF</td>\n",
       "      <td></td>\n",
       "      <td></td>\n",
       "      <td>2011-07-20 20:56:59</td>\n",
       "      <td>406</td>\n",
       "      <td>4696</td>\n",
       "      <td>False</td>\n",
       "    </tr>\n",
       "    <tr>\n",
       "      <th>0</th>\n",
       "      <td>1349600856195411968</td>\n",
       "      <td>2021-01-14 06:14:53</td>\n",
       "      <td>RT @BaufMalou: L'ONU forcée d'admettre que le ...</td>\n",
       "      <td>None</td>\n",
       "      <td>None</td>\n",
       "      <td>False</td>\n",
       "      <td>None</td>\n",
       "      <td>False</td>\n",
       "      <td>ralo2266</td>\n",
       "      <td>Bretagne</td>\n",
       "      <td>retweeter ne veut pas dire approuver#bzh#srfc❤...</td>\n",
       "      <td>2012-02-01 20:22:32</td>\n",
       "      <td>567</td>\n",
       "      <td>25459</td>\n",
       "      <td>False</td>\n",
       "    </tr>\n",
       "    <tr>\n",
       "      <th>0</th>\n",
       "      <td>1349600829003636737</td>\n",
       "      <td>2021-01-14 06:14:46</td>\n",
       "      <td>RT @patricklescop: @FrancisBack5 Moi j’ai un b...</td>\n",
       "      <td>None</td>\n",
       "      <td>None</td>\n",
       "      <td>False</td>\n",
       "      <td>None</td>\n",
       "      <td>False</td>\n",
       "      <td>Francis Back</td>\n",
       "      <td></td>\n",
       "      <td>Un Républicain En Marche ira toujours plus loi...</td>\n",
       "      <td>2018-02-27 17:59:40</td>\n",
       "      <td>7520</td>\n",
       "      <td>85743</td>\n",
       "      <td>False</td>\n",
       "    </tr>\n",
       "    <tr>\n",
       "      <th>0</th>\n",
       "      <td>1349600807717646336</td>\n",
       "      <td>2021-01-14 06:14:41</td>\n",
       "      <td>RT @Ouestcetiti: Le Président à encore une foi...</td>\n",
       "      <td>None</td>\n",
       "      <td>None</td>\n",
       "      <td>False</td>\n",
       "      <td>None</td>\n",
       "      <td>False</td>\n",
       "      <td>carcenac germaine</td>\n",
       "      <td></td>\n",
       "      <td></td>\n",
       "      <td>2011-07-17 20:24:42</td>\n",
       "      <td>617</td>\n",
       "      <td>27340</td>\n",
       "      <td>False</td>\n",
       "    </tr>\n",
       "    <tr>\n",
       "      <th>0</th>\n",
       "      <td>1349600766961582081</td>\n",
       "      <td>2021-01-14 06:14:31</td>\n",
       "      <td>RT @Conspis_en_PLS: Covid-19 : l'efficacité du...</td>\n",
       "      <td>None</td>\n",
       "      <td>None</td>\n",
       "      <td>False</td>\n",
       "      <td>None</td>\n",
       "      <td>False</td>\n",
       "      <td>Paschase Broët</td>\n",
       "      <td>le Monde et l'Humain</td>\n",
       "      <td>VM + RER + IHS = complémentarités compatibles</td>\n",
       "      <td>2012-10-04 19:07:15</td>\n",
       "      <td>50</td>\n",
       "      <td>6230</td>\n",
       "      <td>False</td>\n",
       "    </tr>\n",
       "  </tbody>\n",
       "</table>\n",
       "</div>"
      ],
      "text/plain": [
       "              tweet_id                date  \\\n",
       "0  1349600875061387267 2021-01-14 06:14:57   \n",
       "0  1349600856195411968 2021-01-14 06:14:53   \n",
       "0  1349600829003636737 2021-01-14 06:14:46   \n",
       "0  1349600807717646336 2021-01-14 06:14:41   \n",
       "0  1349600766961582081 2021-01-14 06:14:31   \n",
       "\n",
       "                                                text tweet_location hashtags  \\\n",
       "0  RT @jacquesderosier: Je ne suis pas anti vacci...           None     None   \n",
       "0  RT @BaufMalou: L'ONU forcée d'admettre que le ...           None     None   \n",
       "0  RT @patricklescop: @FrancisBack5 Moi j’ai un b...           None     None   \n",
       "0  RT @Ouestcetiti: Le Président à encore une foi...           None     None   \n",
       "0  RT @Conspis_en_PLS: Covid-19 : l'efficacité du...           None     None   \n",
       "\n",
       "   is_retweet is_reply  is_quote_status            user_name  \\\n",
       "0       False     None            False  Le bon sens #NS #FF   \n",
       "0       False     None            False             ralo2266   \n",
       "0       False     None            False         Francis Back   \n",
       "0       False     None            False    carcenac germaine   \n",
       "0       False     None            False       Paschase Broët   \n",
       "\n",
       "          user_location                                   user_description  \\\n",
       "0                                                                            \n",
       "0              Bretagne  retweeter ne veut pas dire approuver#bzh#srfc❤...   \n",
       "0                        Un Républicain En Marche ira toujours plus loi...   \n",
       "0                                                                            \n",
       "0  le Monde et l'Humain      VM + RER + IHS = complémentarités compatibles   \n",
       "\n",
       "         user_created  user_followers  user_favourites  user_verified  \n",
       "0 2011-07-20 20:56:59             406             4696          False  \n",
       "0 2012-02-01 20:22:32             567            25459          False  \n",
       "0 2018-02-27 17:59:40            7520            85743          False  \n",
       "0 2011-07-17 20:24:42             617            27340          False  \n",
       "0 2012-10-04 19:07:15              50             6230          False  "
      ]
     },
     "execution_count": 297,
     "metadata": {},
     "output_type": "execute_result"
    }
   ],
   "source": [
    "tweets_df.head()"
   ]
  },
  {
   "cell_type": "code",
   "execution_count": 298,
   "metadata": {},
   "outputs": [],
   "source": [
    "# on exporte les données dans un csv\n",
    "tweets_df.to_csv(path,index='False')"
   ]
  },
  {
   "cell_type": "code",
   "execution_count": 299,
   "metadata": {},
   "outputs": [
    {
     "name": "stdout",
     "output_type": "stream",
     "text": [
      "(105322, 15)\n"
     ]
    },
    {
     "name": "stderr",
     "output_type": "stream",
     "text": [
      "/Users/carolineboudier/opt/anaconda3/lib/python3.7/site-packages/IPython/core/interactiveshell.py:3147: DtypeWarning: Columns (0,5,7,14) have mixed types.Specify dtype option on import or set low_memory=False.\n",
      "  interactivity=interactivity, compiler=compiler, result=result)\n"
     ]
    }
   ],
   "source": [
    "# on lit le fichier complet\n",
    "tweets_old_df = pd.read_csv(\"final_tweets.csv\")\n",
    "print(tweets_old_df.shape)"
   ]
  },
  {
   "cell_type": "code",
   "execution_count": 300,
   "metadata": {},
   "outputs": [
    {
     "name": "stdout",
     "output_type": "stream",
     "text": [
      "new tweets: 2000 past tweets: 105322 all tweets: 107322\n"
     ]
    }
   ],
   "source": [
    "# on fusionne les anciennes et nouvelles données\n",
    "full_tweets_df = pd.concat([tweets_old_df, tweets_df], axis=0)\n",
    "print(f\"new tweets: {tweets_df.shape[0]} past tweets: {tweets_old_df.shape[0]} all tweets: {full_tweets_df.shape[0]}\")"
   ]
  },
  {
   "cell_type": "code",
   "execution_count": 301,
   "metadata": {},
   "outputs": [
    {
     "name": "stdout",
     "output_type": "stream",
     "text": [
      "all tweets: (107321, 15)\n"
     ]
    }
   ],
   "source": [
    "# on supprime les doublons\n",
    "full_tweets_df.drop_duplicates(subset = [\"tweet_id\"], inplace=True)\n",
    "print(f\"all tweets: {full_tweets_df.shape}\")"
   ]
  },
  {
   "cell_type": "code",
   "execution_count": 302,
   "metadata": {},
   "outputs": [],
   "source": [
    "# on exporte le fichier final\n",
    "full_tweets_df.to_csv(\"final_tweets.csv\", index=False)"
   ]
  }
 ],
 "metadata": {
  "kernelspec": {
   "display_name": "Python 3",
   "language": "python",
   "name": "python3"
  },
  "language_info": {
   "codemirror_mode": {
    "name": "ipython",
    "version": 3
   },
   "file_extension": ".py",
   "mimetype": "text/x-python",
   "name": "python",
   "nbconvert_exporter": "python",
   "pygments_lexer": "ipython3",
   "version": "3.8.5"
  }
 },
 "nbformat": 4,
 "nbformat_minor": 4
}
